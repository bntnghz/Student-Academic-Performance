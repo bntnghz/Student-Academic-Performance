{
 "cells": [
  {
   "cell_type": "code",
   "execution_count": 72,
   "metadata": {},
   "outputs": [],
   "source": [
    "import pickle\n",
    "import pandas as pd\n",
    "import numpy as np\n",
    "from sklearn.preprocessing import LabelEncoder\n",
    "from sklearn.naive_bayes import GaussianNB\n",
    "from sklearn.model_selection import train_test_split \n",
    "from sklearn.model_selection import cross_validate\n",
    "import sklearn.metrics as sm"
   ]
  },
  {
   "cell_type": "code",
   "execution_count": 73,
   "metadata": {},
   "outputs": [],
   "source": [
    "df = pd.read_csv('xapi-edu-data.csv')"
   ]
  },
  {
   "cell_type": "code",
   "execution_count": 74,
   "metadata": {},
   "outputs": [
    {
     "data": {
      "text/html": [
       "<div>\n",
       "<style scoped>\n",
       "    .dataframe tbody tr th:only-of-type {\n",
       "        vertical-align: middle;\n",
       "    }\n",
       "\n",
       "    .dataframe tbody tr th {\n",
       "        vertical-align: top;\n",
       "    }\n",
       "\n",
       "    .dataframe thead th {\n",
       "        text-align: right;\n",
       "    }\n",
       "</style>\n",
       "<table border=\"1\" class=\"dataframe\">\n",
       "  <thead>\n",
       "    <tr style=\"text-align: right;\">\n",
       "      <th></th>\n",
       "      <th>gender</th>\n",
       "      <th>NationalITy</th>\n",
       "      <th>PlaceofBirth</th>\n",
       "      <th>StageID</th>\n",
       "      <th>GradeID</th>\n",
       "      <th>SectionID</th>\n",
       "      <th>Topic</th>\n",
       "      <th>Semester</th>\n",
       "      <th>Relation</th>\n",
       "      <th>raisedhands</th>\n",
       "      <th>VisITedResources</th>\n",
       "      <th>AnnouncementsView</th>\n",
       "      <th>Discussion</th>\n",
       "      <th>ParentAnsweringSurvey</th>\n",
       "      <th>ParentschoolSatisfaction</th>\n",
       "      <th>StudentAbsenceDays</th>\n",
       "      <th>Class</th>\n",
       "    </tr>\n",
       "  </thead>\n",
       "  <tbody>\n",
       "    <tr>\n",
       "      <td>0</td>\n",
       "      <td>M</td>\n",
       "      <td>KW</td>\n",
       "      <td>KuwaIT</td>\n",
       "      <td>lowerlevel</td>\n",
       "      <td>G-04</td>\n",
       "      <td>A</td>\n",
       "      <td>IT</td>\n",
       "      <td>F</td>\n",
       "      <td>Father</td>\n",
       "      <td>15</td>\n",
       "      <td>16</td>\n",
       "      <td>2</td>\n",
       "      <td>20</td>\n",
       "      <td>Yes</td>\n",
       "      <td>Good</td>\n",
       "      <td>Under-7</td>\n",
       "      <td>M</td>\n",
       "    </tr>\n",
       "    <tr>\n",
       "      <td>1</td>\n",
       "      <td>M</td>\n",
       "      <td>KW</td>\n",
       "      <td>KuwaIT</td>\n",
       "      <td>lowerlevel</td>\n",
       "      <td>G-04</td>\n",
       "      <td>A</td>\n",
       "      <td>IT</td>\n",
       "      <td>F</td>\n",
       "      <td>Father</td>\n",
       "      <td>20</td>\n",
       "      <td>20</td>\n",
       "      <td>3</td>\n",
       "      <td>25</td>\n",
       "      <td>Yes</td>\n",
       "      <td>Good</td>\n",
       "      <td>Under-7</td>\n",
       "      <td>M</td>\n",
       "    </tr>\n",
       "    <tr>\n",
       "      <td>2</td>\n",
       "      <td>M</td>\n",
       "      <td>KW</td>\n",
       "      <td>KuwaIT</td>\n",
       "      <td>lowerlevel</td>\n",
       "      <td>G-04</td>\n",
       "      <td>A</td>\n",
       "      <td>IT</td>\n",
       "      <td>F</td>\n",
       "      <td>Father</td>\n",
       "      <td>10</td>\n",
       "      <td>7</td>\n",
       "      <td>0</td>\n",
       "      <td>30</td>\n",
       "      <td>No</td>\n",
       "      <td>Bad</td>\n",
       "      <td>Above-7</td>\n",
       "      <td>L</td>\n",
       "    </tr>\n",
       "    <tr>\n",
       "      <td>3</td>\n",
       "      <td>M</td>\n",
       "      <td>KW</td>\n",
       "      <td>KuwaIT</td>\n",
       "      <td>lowerlevel</td>\n",
       "      <td>G-04</td>\n",
       "      <td>A</td>\n",
       "      <td>IT</td>\n",
       "      <td>F</td>\n",
       "      <td>Father</td>\n",
       "      <td>30</td>\n",
       "      <td>25</td>\n",
       "      <td>5</td>\n",
       "      <td>35</td>\n",
       "      <td>No</td>\n",
       "      <td>Bad</td>\n",
       "      <td>Above-7</td>\n",
       "      <td>L</td>\n",
       "    </tr>\n",
       "    <tr>\n",
       "      <td>4</td>\n",
       "      <td>M</td>\n",
       "      <td>KW</td>\n",
       "      <td>KuwaIT</td>\n",
       "      <td>lowerlevel</td>\n",
       "      <td>G-04</td>\n",
       "      <td>A</td>\n",
       "      <td>IT</td>\n",
       "      <td>F</td>\n",
       "      <td>Father</td>\n",
       "      <td>40</td>\n",
       "      <td>50</td>\n",
       "      <td>12</td>\n",
       "      <td>50</td>\n",
       "      <td>No</td>\n",
       "      <td>Bad</td>\n",
       "      <td>Above-7</td>\n",
       "      <td>M</td>\n",
       "    </tr>\n",
       "  </tbody>\n",
       "</table>\n",
       "</div>"
      ],
      "text/plain": [
       "  gender NationalITy PlaceofBirth     StageID GradeID SectionID Topic  \\\n",
       "0      M          KW       KuwaIT  lowerlevel    G-04         A    IT   \n",
       "1      M          KW       KuwaIT  lowerlevel    G-04         A    IT   \n",
       "2      M          KW       KuwaIT  lowerlevel    G-04         A    IT   \n",
       "3      M          KW       KuwaIT  lowerlevel    G-04         A    IT   \n",
       "4      M          KW       KuwaIT  lowerlevel    G-04         A    IT   \n",
       "\n",
       "  Semester Relation  raisedhands  VisITedResources  AnnouncementsView  \\\n",
       "0        F   Father           15                16                  2   \n",
       "1        F   Father           20                20                  3   \n",
       "2        F   Father           10                 7                  0   \n",
       "3        F   Father           30                25                  5   \n",
       "4        F   Father           40                50                 12   \n",
       "\n",
       "   Discussion ParentAnsweringSurvey ParentschoolSatisfaction  \\\n",
       "0          20                   Yes                     Good   \n",
       "1          25                   Yes                     Good   \n",
       "2          30                    No                      Bad   \n",
       "3          35                    No                      Bad   \n",
       "4          50                    No                      Bad   \n",
       "\n",
       "  StudentAbsenceDays Class  \n",
       "0            Under-7     M  \n",
       "1            Under-7     M  \n",
       "2            Above-7     L  \n",
       "3            Above-7     L  \n",
       "4            Above-7     M  "
      ]
     },
     "execution_count": 74,
     "metadata": {},
     "output_type": "execute_result"
    }
   ],
   "source": [
    "df.head()"
   ]
  },
  {
   "cell_type": "code",
   "execution_count": 75,
   "metadata": {},
   "outputs": [
    {
     "name": "stdout",
     "output_type": "stream",
     "text": [
      "['F' 'M']\n"
     ]
    }
   ],
   "source": [
    "#LABEL ENCODER\n",
    "#MENGUBAH NILAI MENJADI ANGKA\n",
    "#KOLOM GENDER\n",
    "#['F' 'M']\n",
    "#MENJADI\n",
    "#[0, 1]\n",
    "le_gender = LabelEncoder()\n",
    "le_gender.fit(df['gender'])\n",
    "print(le_gender.classes_)\n",
    "df['gender'] = le_gender.transform(df['gender'])"
   ]
  },
  {
   "cell_type": "code",
   "execution_count": 76,
   "metadata": {},
   "outputs": [
    {
     "name": "stdout",
     "output_type": "stream",
     "text": [
      "['Egypt' 'Iran' 'Iraq' 'Jordan' 'KW' 'Lybia' 'Morocco' 'Palestine'\n",
      " 'SaudiArabia' 'Syria' 'Tunis' 'USA' 'lebanon' 'venzuela']\n"
     ]
    }
   ],
   "source": [
    "#LABEL ENCODER\n",
    "#MENGUBAH NILAI MENJADI ANGKA\n",
    "#KOLOM NATIONALITY\n",
    "#['Egypt' 'Iran' 'Iraq' 'Jordan' 'KW' 'Lybia' 'Morocco' 'Palestine'\n",
    "#'SaudiArabia' 'Syria' 'Tunis' 'USA' 'lebanon' 'venzuela']\n",
    "#MENJADI\n",
    "#[0, 1, 2, 3, 4, 5, 6, 7, 8, 9, 10, 11, 12]\n",
    "le_nation = LabelEncoder()\n",
    "le_nation.fit(df['NationalITy'])\n",
    "print(le_nation.classes_)\n",
    "df['NationalITy'] = le_nation.transform(df['NationalITy'])"
   ]
  },
  {
   "cell_type": "code",
   "execution_count": 77,
   "metadata": {},
   "outputs": [
    {
     "name": "stdout",
     "output_type": "stream",
     "text": [
      "['Egypt' 'Iran' 'Iraq' 'Jordan' 'KuwaIT' 'Lybia' 'Morocco' 'Palestine'\n",
      " 'SaudiArabia' 'Syria' 'Tunis' 'USA' 'lebanon' 'venzuela']\n"
     ]
    }
   ],
   "source": [
    "#LABEL ENCODER\n",
    "#MENGUBAH NILAI MENJADI ANGKA\n",
    "#KOLOM PLACEOFBIRTH\n",
    "#['Egypt' 'Iran' 'Iraq' 'Jordan' 'KuwaIT 'Lybia' 'Morocco' 'Palestine'\n",
    "#'SaudiArabia' 'Syria' 'Tunis' 'USA' 'lebanon' 'venzuela']\n",
    "#MENJADI\n",
    "#[0, 1, 2, 3, 4, 5, 6, 7, 8, 9, 10, 11, 12]\n",
    "le_pob = LabelEncoder()\n",
    "le_pob.fit(df['PlaceofBirth'])\n",
    "print(le_pob.classes_)\n",
    "df['PlaceofBirth'] = le_pob.transform(df['PlaceofBirth'])"
   ]
  },
  {
   "cell_type": "code",
   "execution_count": 78,
   "metadata": {},
   "outputs": [
    {
     "name": "stdout",
     "output_type": "stream",
     "text": [
      "['HighSchool' 'MiddleSchool' 'lowerlevel']\n"
     ]
    }
   ],
   "source": [
    "#LABEL ENCODER\n",
    "#MENGUBAH NILAI MENJADI ANGKA\n",
    "#KOLOM STAGEID\n",
    "#['HighSchool' 'MiddleSchool' 'lowerlevel']\n",
    "#MENJADI\n",
    "#[0, 1, 2]\n",
    "le_sid = LabelEncoder()\n",
    "le_sid.fit(df['StageID'])\n",
    "print(le_sid.classes_)\n",
    "df['StageID'] = le_sid.transform(df['StageID'])"
   ]
  },
  {
   "cell_type": "code",
   "execution_count": 79,
   "metadata": {},
   "outputs": [
    {
     "name": "stdout",
     "output_type": "stream",
     "text": [
      "['G-02' 'G-04' 'G-05' 'G-06' 'G-07' 'G-08' 'G-09' 'G-10' 'G-11' 'G-12']\n"
     ]
    }
   ],
   "source": [
    "#LABEL ENCODER\n",
    "#MENGUBAH NILAI MENJADI ANGKA\n",
    "#KOLOM GRADEID\n",
    "#['G-02' 'G-04' 'G-05' 'G-06' 'G-07' 'G-08' 'G-09' 'G-10' 'G-11' 'G-12']\n",
    "#MENJADI\n",
    "#[0, 1, 2, 3, 4, 5, 6, 7, 8, 9]\n",
    "le_gid = LabelEncoder()\n",
    "le_gid.fit(df['GradeID'])\n",
    "print(le_gid.classes_)\n",
    "df['GradeID'] = le_gid.transform(df['GradeID'])"
   ]
  },
  {
   "cell_type": "code",
   "execution_count": 80,
   "metadata": {},
   "outputs": [
    {
     "name": "stdout",
     "output_type": "stream",
     "text": [
      "['A' 'B' 'C']\n"
     ]
    }
   ],
   "source": [
    "#LABEL ENCODER\n",
    "#MENGUBAH NILAI MENJADI ANGKA\n",
    "#KOLOM SECTIONID\n",
    "#['A' 'B' 'C']\n",
    "#MENJADI\n",
    "#[0, 1, 2]\n",
    "le_sid = LabelEncoder()\n",
    "le_sid.fit(df['SectionID'])\n",
    "print(le_sid.classes_)\n",
    "df['SectionID'] = le_sid.transform(df['SectionID'])"
   ]
  },
  {
   "cell_type": "code",
   "execution_count": 81,
   "metadata": {},
   "outputs": [
    {
     "name": "stdout",
     "output_type": "stream",
     "text": [
      "['Arabic' 'Biology' 'Chemistry' 'English' 'French' 'Geology' 'History'\n",
      " 'IT' 'Math' 'Quran' 'Science' 'Spanish']\n"
     ]
    }
   ],
   "source": [
    "#LABEL ENCODER\n",
    "#MENGUBAH NILAI MENJADI ANGKA\n",
    "#KOLOM TOPIC\n",
    "#['Arabic' 'Biology' 'Chemistry' 'English' 'French' 'Geology' 'History'\n",
    "#'IT' 'Math' 'Quran' 'Science' 'Spanish']\n",
    "#MENJADI\n",
    "#[0, 1, 2, 3, 4, 5, 6, 7, 8, 9, 10, 11]\n",
    "le_topic = LabelEncoder()\n",
    "le_topic.fit(df['Topic'])\n",
    "print(le_topic.classes_)\n",
    "df['Topic'] = le_topic.transform(df['Topic'])"
   ]
  },
  {
   "cell_type": "code",
   "execution_count": 82,
   "metadata": {},
   "outputs": [
    {
     "name": "stdout",
     "output_type": "stream",
     "text": [
      "['F' 'S']\n"
     ]
    }
   ],
   "source": [
    "#LABEL ENCODER\n",
    "#MENGUBAH NILAI MENJADI ANGKA\n",
    "#KOLOM SEMESTER\n",
    "#['F' 'S']\n",
    "#MENJADI\n",
    "#[0, 1]\n",
    "le_semester = LabelEncoder()\n",
    "le_semester.fit(df['Semester'])\n",
    "print(le_semester.classes_)\n",
    "df['Semester'] = le_semester.transform(df['Semester'])"
   ]
  },
  {
   "cell_type": "code",
   "execution_count": 83,
   "metadata": {},
   "outputs": [
    {
     "name": "stdout",
     "output_type": "stream",
     "text": [
      "['Father' 'Mum']\n"
     ]
    }
   ],
   "source": [
    "#LABEL ENCODER\n",
    "#MENGUBAH NILAI MENJADI ANGKA\n",
    "#KOLOM RELATION\n",
    "#['Father' 'Mum']\n",
    "#MENJADI\n",
    "#[0, 1]\n",
    "le_relation = LabelEncoder()\n",
    "le_relation.fit(df['Relation'])\n",
    "print(le_relation.classes_)\n",
    "df['Relation'] = le_relation.transform(df['Relation'])"
   ]
  },
  {
   "cell_type": "code",
   "execution_count": 84,
   "metadata": {},
   "outputs": [
    {
     "name": "stdout",
     "output_type": "stream",
     "text": [
      "['No' 'Yes']\n"
     ]
    }
   ],
   "source": [
    "#LABEL ENCODER\n",
    "#MENGUBAH NILAI MENJADI ANGKA\n",
    "#KOLOM ParentAnsweringSurvey\n",
    "#['No' 'Yes']\n",
    "#MENJADI\n",
    "#[0, 1]\n",
    "le_pas = LabelEncoder()\n",
    "le_pas.fit(df['ParentAnsweringSurvey'])\n",
    "print(le_pas.classes_)\n",
    "df['ParentAnsweringSurvey'] = le_pas.transform(df['ParentAnsweringSurvey'])"
   ]
  },
  {
   "cell_type": "code",
   "execution_count": 85,
   "metadata": {},
   "outputs": [
    {
     "name": "stdout",
     "output_type": "stream",
     "text": [
      "['Bad' 'Good']\n"
     ]
    }
   ],
   "source": [
    "#LABEL ENCODER\n",
    "#MENGUBAH NILAI MENJADI ANGKA\n",
    "#KOLOM ParentschoolSatisfaction\n",
    "#['Bad' 'Good']\n",
    "#MENJADI\n",
    "#[0, 1]\n",
    "le_pss = LabelEncoder()\n",
    "le_pss.fit(df['ParentschoolSatisfaction'])\n",
    "print(le_pss.classes_)\n",
    "df['ParentschoolSatisfaction'] = le_pss.transform(df['ParentschoolSatisfaction'])"
   ]
  },
  {
   "cell_type": "code",
   "execution_count": 86,
   "metadata": {},
   "outputs": [
    {
     "name": "stdout",
     "output_type": "stream",
     "text": [
      "['Above-7' 'Under-7']\n"
     ]
    }
   ],
   "source": [
    "#LABEL ENCODER\n",
    "#MENGUBAH NILAI MENJADI ANGKA\n",
    "#KOLOM StudentAbsenceDays\n",
    "#['Above-7' 'Under-7']\n",
    "#MENJADI\n",
    "#[0, 1]\n",
    "le_sad = LabelEncoder()\n",
    "le_sad.fit(df['StudentAbsenceDays'])\n",
    "print(le_sad.classes_)\n",
    "df['StudentAbsenceDays'] = le_sad.transform(df['StudentAbsenceDays'])"
   ]
  },
  {
   "cell_type": "code",
   "execution_count": 87,
   "metadata": {},
   "outputs": [
    {
     "name": "stdout",
     "output_type": "stream",
     "text": [
      "['H' 'L' 'M']\n"
     ]
    }
   ],
   "source": [
    "#LABEL ENCODER\n",
    "#MENGUBAH NILAI MENJADI ANGKA\n",
    "#KOLOM StudentAbsenceDays\n",
    "#['H' 'L' 'M']\n",
    "#MENJADI\n",
    "#[0, 1, 2]\n",
    "le_class = LabelEncoder()\n",
    "le_class.fit(df['Class'])\n",
    "print(le_class.classes_)\n",
    "df['Class'] = le_class.transform(df['Class'])"
   ]
  },
  {
   "cell_type": "code",
   "execution_count": 88,
   "metadata": {},
   "outputs": [
    {
     "data": {
      "text/html": [
       "<div>\n",
       "<style scoped>\n",
       "    .dataframe tbody tr th:only-of-type {\n",
       "        vertical-align: middle;\n",
       "    }\n",
       "\n",
       "    .dataframe tbody tr th {\n",
       "        vertical-align: top;\n",
       "    }\n",
       "\n",
       "    .dataframe thead th {\n",
       "        text-align: right;\n",
       "    }\n",
       "</style>\n",
       "<table border=\"1\" class=\"dataframe\">\n",
       "  <thead>\n",
       "    <tr style=\"text-align: right;\">\n",
       "      <th></th>\n",
       "      <th>gender</th>\n",
       "      <th>NationalITy</th>\n",
       "      <th>PlaceofBirth</th>\n",
       "      <th>StageID</th>\n",
       "      <th>GradeID</th>\n",
       "      <th>SectionID</th>\n",
       "      <th>Topic</th>\n",
       "      <th>Semester</th>\n",
       "      <th>Relation</th>\n",
       "      <th>raisedhands</th>\n",
       "      <th>VisITedResources</th>\n",
       "      <th>AnnouncementsView</th>\n",
       "      <th>Discussion</th>\n",
       "      <th>ParentAnsweringSurvey</th>\n",
       "      <th>ParentschoolSatisfaction</th>\n",
       "      <th>StudentAbsenceDays</th>\n",
       "      <th>Class</th>\n",
       "    </tr>\n",
       "  </thead>\n",
       "  <tbody>\n",
       "    <tr>\n",
       "      <td>0</td>\n",
       "      <td>1</td>\n",
       "      <td>4</td>\n",
       "      <td>4</td>\n",
       "      <td>2</td>\n",
       "      <td>1</td>\n",
       "      <td>0</td>\n",
       "      <td>7</td>\n",
       "      <td>0</td>\n",
       "      <td>0</td>\n",
       "      <td>15</td>\n",
       "      <td>16</td>\n",
       "      <td>2</td>\n",
       "      <td>20</td>\n",
       "      <td>1</td>\n",
       "      <td>1</td>\n",
       "      <td>1</td>\n",
       "      <td>2</td>\n",
       "    </tr>\n",
       "    <tr>\n",
       "      <td>1</td>\n",
       "      <td>1</td>\n",
       "      <td>4</td>\n",
       "      <td>4</td>\n",
       "      <td>2</td>\n",
       "      <td>1</td>\n",
       "      <td>0</td>\n",
       "      <td>7</td>\n",
       "      <td>0</td>\n",
       "      <td>0</td>\n",
       "      <td>20</td>\n",
       "      <td>20</td>\n",
       "      <td>3</td>\n",
       "      <td>25</td>\n",
       "      <td>1</td>\n",
       "      <td>1</td>\n",
       "      <td>1</td>\n",
       "      <td>2</td>\n",
       "    </tr>\n",
       "    <tr>\n",
       "      <td>2</td>\n",
       "      <td>1</td>\n",
       "      <td>4</td>\n",
       "      <td>4</td>\n",
       "      <td>2</td>\n",
       "      <td>1</td>\n",
       "      <td>0</td>\n",
       "      <td>7</td>\n",
       "      <td>0</td>\n",
       "      <td>0</td>\n",
       "      <td>10</td>\n",
       "      <td>7</td>\n",
       "      <td>0</td>\n",
       "      <td>30</td>\n",
       "      <td>0</td>\n",
       "      <td>0</td>\n",
       "      <td>0</td>\n",
       "      <td>1</td>\n",
       "    </tr>\n",
       "    <tr>\n",
       "      <td>3</td>\n",
       "      <td>1</td>\n",
       "      <td>4</td>\n",
       "      <td>4</td>\n",
       "      <td>2</td>\n",
       "      <td>1</td>\n",
       "      <td>0</td>\n",
       "      <td>7</td>\n",
       "      <td>0</td>\n",
       "      <td>0</td>\n",
       "      <td>30</td>\n",
       "      <td>25</td>\n",
       "      <td>5</td>\n",
       "      <td>35</td>\n",
       "      <td>0</td>\n",
       "      <td>0</td>\n",
       "      <td>0</td>\n",
       "      <td>1</td>\n",
       "    </tr>\n",
       "    <tr>\n",
       "      <td>4</td>\n",
       "      <td>1</td>\n",
       "      <td>4</td>\n",
       "      <td>4</td>\n",
       "      <td>2</td>\n",
       "      <td>1</td>\n",
       "      <td>0</td>\n",
       "      <td>7</td>\n",
       "      <td>0</td>\n",
       "      <td>0</td>\n",
       "      <td>40</td>\n",
       "      <td>50</td>\n",
       "      <td>12</td>\n",
       "      <td>50</td>\n",
       "      <td>0</td>\n",
       "      <td>0</td>\n",
       "      <td>0</td>\n",
       "      <td>2</td>\n",
       "    </tr>\n",
       "  </tbody>\n",
       "</table>\n",
       "</div>"
      ],
      "text/plain": [
       "   gender  NationalITy  PlaceofBirth  StageID  GradeID  SectionID  Topic  \\\n",
       "0       1            4             4        2        1          0      7   \n",
       "1       1            4             4        2        1          0      7   \n",
       "2       1            4             4        2        1          0      7   \n",
       "3       1            4             4        2        1          0      7   \n",
       "4       1            4             4        2        1          0      7   \n",
       "\n",
       "   Semester  Relation  raisedhands  VisITedResources  AnnouncementsView  \\\n",
       "0         0         0           15                16                  2   \n",
       "1         0         0           20                20                  3   \n",
       "2         0         0           10                 7                  0   \n",
       "3         0         0           30                25                  5   \n",
       "4         0         0           40                50                 12   \n",
       "\n",
       "   Discussion  ParentAnsweringSurvey  ParentschoolSatisfaction  \\\n",
       "0          20                      1                         1   \n",
       "1          25                      1                         1   \n",
       "2          30                      0                         0   \n",
       "3          35                      0                         0   \n",
       "4          50                      0                         0   \n",
       "\n",
       "   StudentAbsenceDays  Class  \n",
       "0                   1      2  \n",
       "1                   1      2  \n",
       "2                   0      1  \n",
       "3                   0      1  \n",
       "4                   0      2  "
      ]
     },
     "execution_count": 88,
     "metadata": {},
     "output_type": "execute_result"
    }
   ],
   "source": [
    "df.head()"
   ]
  },
  {
   "cell_type": "code",
   "execution_count": 89,
   "metadata": {},
   "outputs": [],
   "source": [
    "#X ADALAH FEATURE\n",
    "#Y ADALAH LABEL/TARGET\n",
    "X = df.iloc[:,:-1].values\n",
    "y = df.iloc[:,-1:].values.ravel()"
   ]
  },
  {
   "cell_type": "code",
   "execution_count": 90,
   "metadata": {},
   "outputs": [],
   "source": [
    "#SPLIT DATA MENJADI 20% UNTUK TESTING 80% UNTUK TRAINING\n",
    "X_train, X_test, y_train, y_test = train_test_split(X, y,test_size=0.2, random_state=None)"
   ]
  },
  {
   "cell_type": "code",
   "execution_count": 91,
   "metadata": {},
   "outputs": [
    {
     "data": {
      "text/plain": [
       "GaussianNB(priors=None, var_smoothing=1e-09)"
      ]
     },
     "execution_count": 91,
     "metadata": {},
     "output_type": "execute_result"
    }
   ],
   "source": [
    "#NAIVE BAYES MODEL\n",
    "#TRAINING MODEL\n",
    "clf = GaussianNB()\n",
    "clf.fit(X_train, y_train)"
   ]
  },
  {
   "cell_type": "code",
   "execution_count": 92,
   "metadata": {},
   "outputs": [],
   "source": [
    "#Cross Validation model 5 K-Fold\n",
    "scores = cross_validate(clf, X_test, y_test, cv=5, return_train_score=True)"
   ]
  },
  {
   "cell_type": "code",
   "execution_count": 93,
   "metadata": {},
   "outputs": [
    {
     "data": {
      "text/plain": [
       "array([0.6       , 0.75      , 0.8       , 0.52631579, 0.52941176])"
      ]
     },
     "execution_count": 93,
     "metadata": {},
     "output_type": "execute_result"
    }
   ],
   "source": [
    "scores['test_score']"
   ]
  },
  {
   "cell_type": "code",
   "execution_count": 94,
   "metadata": {},
   "outputs": [
    {
     "name": "stdout",
     "output_type": "stream",
     "text": [
      "[[[286  52]\n",
      "  [ 27 115]]\n",
      "\n",
      " [[325  28]\n",
      "  [ 14 113]]\n",
      "\n",
      " [[229  40]\n",
      "  [ 79 132]]]\n"
     ]
    }
   ],
   "source": [
    "#CONFUSION MATRIX\n",
    "y_pred = clf.predict(X)\n",
    "confusion_matrix = sm.multilabel_confusion_matrix(y, y_pred)\n",
    "print(confusion_matrix)"
   ]
  },
  {
   "cell_type": "code",
   "execution_count": 95,
   "metadata": {},
   "outputs": [],
   "source": [
    "tn0, fp0, fn0, tp0 = confusion_matrix[0].ravel()\n",
    "tn1, fp1, fn1, tp1 = confusion_matrix[1].ravel()\n",
    "tn2, fp2, fn2, tp2 = confusion_matrix[2].ravel()"
   ]
  },
  {
   "cell_type": "code",
   "execution_count": 96,
   "metadata": {},
   "outputs": [
    {
     "name": "stdout",
     "output_type": "stream",
     "text": [
      "0.8333333333333334\n"
     ]
    }
   ],
   "source": [
    "#ACCURACY\n",
    "accuracy0 = (tp0+tn0)/(tp0+fp0+fn0+tn0)\n",
    "accuracy1 = (tp1+tn1)/(tp1+fp1+fn1+tn1)\n",
    "accuracy2 = (tp2+tn2)/(tp2+fp2+fn2+tn2)\n",
    "print((accuracy0+accuracy1+accuracy2)/3)"
   ]
  },
  {
   "cell_type": "code",
   "execution_count": 97,
   "metadata": {},
   "outputs": [
    {
     "name": "stdout",
     "output_type": "stream",
     "text": [
      "0.7524943515574821\n"
     ]
    }
   ],
   "source": [
    "#PRECISION\n",
    "precision0 = tp0/(tp0+fp0)\n",
    "precision1 = tp1/(tp1+fp1)\n",
    "precision2 = tp2/(tp2+fp2)\n",
    "print((precision0+precision1+precision2)/3)"
   ]
  },
  {
   "cell_type": "code",
   "execution_count": 98,
   "metadata": {},
   "outputs": [
    {
     "name": "stdout",
     "output_type": "stream",
     "text": [
      "0.7750717838395826\n"
     ]
    }
   ],
   "source": [
    "#RECALL\n",
    "recall0 = tp0/(tp0+fn0)\n",
    "recall1 = tp1/(tp1+fn1)\n",
    "recall2 = tp2/(tp2+fn2)\n",
    "print((recall0+recall1+recall2)/3)"
   ]
  },
  {
   "cell_type": "code",
   "execution_count": 99,
   "metadata": {},
   "outputs": [],
   "source": [
    "#DUMP MODEL\n",
    "pickle.dump(clf, open('model.pkl','wb'))"
   ]
  }
 ],
 "metadata": {
  "kernelspec": {
   "display_name": "Python 3",
   "language": "python",
   "name": "python3"
  },
  "language_info": {
   "codemirror_mode": {
    "name": "ipython",
    "version": 3
   },
   "file_extension": ".py",
   "mimetype": "text/x-python",
   "name": "python",
   "nbconvert_exporter": "python",
   "pygments_lexer": "ipython3",
   "version": "3.7.3"
  }
 },
 "nbformat": 4,
 "nbformat_minor": 2
}
